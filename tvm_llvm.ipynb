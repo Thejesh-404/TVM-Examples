{
  "nbformat": 4,
  "nbformat_minor": 0,
  "metadata": {
    "colab": {
      "provenance": []
    },
    "kernelspec": {
      "name": "python3",
      "display_name": "Python 3"
    },
    "language_info": {
      "name": "python"
    }
  },
  "cells": [
    {
      "cell_type": "markdown",
      "source": [
        "compiling a neural network using TVM - CPU (LLVM)"
      ],
      "metadata": {
        "id": "fUawJ4liKoYd"
      }
    },
    {
      "cell_type": "code",
      "source": [
        "# Installing required libraries and Vgg model in onnx format\n",
        "from IPython.display import clear_output\n",
        "!wget https://s3.amazonaws.com/onnx-model-zoo/vgg/vgg16/vgg16.onnx\n",
        "!pip install onnx\n",
        "!pip install apache-tvm"
      ],
      "metadata": {
        "colab": {
          "base_uri": "https://localhost:8080/"
        },
        "id": "soTE2fiELB8J",
        "outputId": "2499f257-536b-4278-bd1c-a40db4af8c3c"
      },
      "execution_count": 7,
      "outputs": [
        {
          "output_type": "stream",
          "name": "stdout",
          "text": [
            "--2023-03-17 22:00:34--  https://s3.amazonaws.com/onnx-model-zoo/vgg/vgg16/vgg16.onnx\n",
            "Resolving s3.amazonaws.com (s3.amazonaws.com)... 54.231.166.64, 52.216.249.182, 52.217.99.182, ...\n",
            "Connecting to s3.amazonaws.com (s3.amazonaws.com)|54.231.166.64|:443... connected.\n",
            "HTTP request sent, awaiting response... 200 OK\n",
            "Length: 553437328 (528M) [application/x-www-form-urlencoded]\n",
            "Saving to: ‘vgg16.onnx.1’\n",
            "\n",
            "vgg16.onnx.1        100%[===================>] 527.80M  44.0MB/s    in 13s     \n",
            "\n",
            "2023-03-17 22:00:47 (41.6 MB/s) - ‘vgg16.onnx.1’ saved [553437328/553437328]\n",
            "\n",
            "Looking in indexes: https://pypi.org/simple, https://us-python.pkg.dev/colab-wheels/public/simple/\n",
            "Requirement already satisfied: onnx in /usr/local/lib/python3.9/dist-packages (1.13.1)\n",
            "Requirement already satisfied: typing-extensions>=3.6.2.1 in /usr/local/lib/python3.9/dist-packages (from onnx) (4.5.0)\n",
            "Requirement already satisfied: protobuf<4,>=3.20.2 in /usr/local/lib/python3.9/dist-packages (from onnx) (3.20.3)\n",
            "Requirement already satisfied: numpy>=1.16.6 in /usr/local/lib/python3.9/dist-packages (from onnx) (1.22.4)\n",
            "Looking in indexes: https://pypi.org/simple, https://us-python.pkg.dev/colab-wheels/public/simple/\n",
            "Requirement already satisfied: apache-tvm in /usr/local/lib/python3.9/dist-packages (0.10.0)\n",
            "Requirement already satisfied: attrs in /usr/local/lib/python3.9/dist-packages (from apache-tvm) (22.2.0)\n",
            "Requirement already satisfied: scipy in /usr/local/lib/python3.9/dist-packages (from apache-tvm) (1.10.1)\n",
            "Requirement already satisfied: synr==0.6.0 in /usr/local/lib/python3.9/dist-packages (from apache-tvm) (0.6.0)\n",
            "Requirement already satisfied: psutil in /usr/local/lib/python3.9/dist-packages (from apache-tvm) (5.9.4)\n",
            "Requirement already satisfied: tornado in /usr/local/lib/python3.9/dist-packages (from apache-tvm) (6.2)\n",
            "Requirement already satisfied: numpy in /usr/local/lib/python3.9/dist-packages (from apache-tvm) (1.22.4)\n",
            "Requirement already satisfied: cloudpickle in /usr/local/lib/python3.9/dist-packages (from apache-tvm) (2.2.1)\n",
            "Requirement already satisfied: decorator in /usr/local/lib/python3.9/dist-packages (from apache-tvm) (4.4.2)\n"
          ]
        }
      ]
    },
    {
      "cell_type": "code",
      "source": [
        "import onnx\n",
        "import tvm\n",
        "from tvm import relay\n",
        "from tvm.contrib import graph_executor\n",
        "import numpy as np"
      ],
      "metadata": {
        "id": "w_iFHk0pLU7h"
      },
      "execution_count": 8,
      "outputs": []
    },
    {
      "cell_type": "markdown",
      "source": [
        "Step 1 : Convert the model to relay format"
      ],
      "metadata": {
        "id": "3hp6HL1LjIFG"
      }
    },
    {
      "cell_type": "code",
      "source": [
        "# Here the model is in onnx format we are converting it into relay format\n",
        "onnx_model = onnx.load('vgg16.onnx')\n",
        "input_name = 'data'\n",
        "shape_dict = {input_name: (1, 3, 224, 224)}  # Input shape for VGG16\n",
        "mod, params = relay.frontend.from_onnx(onnx_model, shape_dict)"
      ],
      "metadata": {
        "id": "QgbUbqG3LW_D"
      },
      "execution_count": 9,
      "outputs": []
    },
    {
      "cell_type": "markdown",
      "source": [
        "Step 2: Compile the model"
      ],
      "metadata": {
        "id": "DHDEWvC3jOka"
      }
    },
    {
      "cell_type": "code",
      "source": [
        "# Here I'm using target as llvm (cpu)\n",
        "target = 'llvm'\n",
        "with tvm.transform.PassContext(opt_level=3):\n",
        "    lib = relay.build(mod, target=target, params=params)"
      ],
      "metadata": {
        "id": "3w_l8F4c5j6f"
      },
      "execution_count": 10,
      "outputs": []
    },
    {
      "cell_type": "markdown",
      "source": [
        "Step 3: Running the model"
      ],
      "metadata": {
        "id": "m5oSyE1llfBQ"
      }
    },
    {
      "cell_type": "code",
      "source": [
        "dev = tvm.device(str(target), 0)\n",
        "module = graph_executor.GraphModule(lib[\"default\"](dev))\n",
        "module.set_input(input_name, np.random.uniform(size=(1, 3, 224, 224)).astype(\"float32\"))\n",
        "module.run()\n",
        "output_shape = (1, 1000)\n",
        "tvm_output = module.get_output(0, tvm.nd.empty(output_shape)).numpy()\n"
      ],
      "metadata": {
        "id": "EkI-TTTEQtaj"
      },
      "execution_count": 11,
      "outputs": []
    },
    {
      "cell_type": "markdown",
      "source": [
        "Checking Performance"
      ],
      "metadata": {
        "id": "a8nV7bK_oVw0"
      }
    },
    {
      "cell_type": "code",
      "source": [
        "import timeit\n",
        "\n",
        "timing_number = 10\n",
        "timing_repeat = 10\n",
        "\n",
        "unoptimized = (\n",
        "    np.array(timeit.Timer(lambda: module.run()).repeat(repeat=timing_repeat, number=timing_number))\n",
        "    * 1000\n",
        "    / timing_number\n",
        ")\n",
        "\n",
        "\n",
        "stats = {\n",
        "    \"mean\": np.mean(unoptimized),\n",
        "    \"median\": np.median(unoptimized),\n",
        "    \"std\": np.std(unoptimized),\n",
        "}\n",
        "\n",
        "print(stats)"
      ],
      "metadata": {
        "colab": {
          "base_uri": "https://localhost:8080/"
        },
        "id": "Bjs7bduWi8rp",
        "outputId": "0fed996e-2924-42b0-9f0d-de0e60b06514"
      },
      "execution_count": 13,
      "outputs": [
        {
          "output_type": "stream",
          "name": "stdout",
          "text": [
            "{'mean': 2433.1346460500117, 'median': 2469.799572000011, 'std': 77.4230920250124}\n"
          ]
        }
      ]
    },
    {
      "cell_type": "markdown",
      "source": [
        "Tuning the model will results in better performance"
      ],
      "metadata": {
        "id": "Cilb_OA5obNO"
      }
    }
  ]
}