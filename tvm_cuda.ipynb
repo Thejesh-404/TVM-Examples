{
  "nbformat": 4,
  "nbformat_minor": 0,
  "metadata": {
    "colab": {
      "provenance": []
    },
    "kernelspec": {
      "name": "python3",
      "display_name": "Python 3"
    },
    "language_info": {
      "name": "python"
    },
    "accelerator": "GPU",
    "gpuClass": "standard"
  },
  "cells": [
    {
      "cell_type": "code",
      "execution_count": 1,
      "metadata": {
        "id": "IUu7Wrp8qg5y"
      },
      "outputs": [],
      "source": [
        "# Installing required libraries and Vgg model in onnx format\n",
        "from IPython.display import clear_output\n",
        "!wget https://s3.amazonaws.com/onnx-model-zoo/vgg/vgg16/vgg16.onnx\n",
        "!pip install onnx\n",
        "clear_output()"
      ]
    },
    {
      "cell_type": "code",
      "source": [
        "!nvcc --version"
      ],
      "metadata": {
        "colab": {
          "base_uri": "https://localhost:8080/"
        },
        "id": "wlgszen2tnfk",
        "outputId": "e57a6b3e-f2c8-4fc7-a2d3-af9e6b62608f"
      },
      "execution_count": 2,
      "outputs": [
        {
          "output_type": "stream",
          "name": "stdout",
          "text": [
            "nvcc: NVIDIA (R) Cuda compiler driver\n",
            "Copyright (c) 2005-2022 NVIDIA Corporation\n",
            "Built on Wed_Sep_21_10:33:58_PDT_2022\n",
            "Cuda compilation tools, release 11.8, V11.8.89\n",
            "Build cuda_11.8.r11.8/compiler.31833905_0\n"
          ]
        }
      ]
    },
    {
      "cell_type": "code",
      "source": [
        "# In Pypi Installation of apache-tvm CUDA is not enabled\n",
        "!pip install apache-tvm-cu116 -f https://tlcpack.ai/wheels"
      ],
      "metadata": {
        "colab": {
          "base_uri": "https://localhost:8080/"
        },
        "id": "KXFPaWjHqvyV",
        "outputId": "af5a2794-d45c-4ed3-cbd4-aa9611350420"
      },
      "execution_count": 3,
      "outputs": [
        {
          "output_type": "stream",
          "name": "stdout",
          "text": [
            "Looking in indexes: https://pypi.org/simple, https://us-python.pkg.dev/colab-wheels/public/simple/\n",
            "Looking in links: https://tlcpack.ai/wheels\n",
            "Collecting apache-tvm-cu116\n",
            "  Downloading https://github.com/tlc-pack/tlcpack/releases/download/v0.7.dev1/apache_tvm_cu116-0.9.0-cp39-cp39-manylinux_2_17_x86_64.manylinux2014_x86_64.whl (398.1 MB)\n",
            "\u001b[2K     \u001b[90m━━━━━━━━━━━━━━━━━━━━━━━━━━━━━━━━━━━━━━━\u001b[0m \u001b[32m398.1/398.1 MB\u001b[0m \u001b[31m3.6 MB/s\u001b[0m eta \u001b[36m0:00:00\u001b[0m\n",
            "\u001b[?25hRequirement already satisfied: psutil in /usr/local/lib/python3.9/dist-packages (from apache-tvm-cu116) (5.9.4)\n",
            "Requirement already satisfied: decorator in /usr/local/lib/python3.9/dist-packages (from apache-tvm-cu116) (4.4.2)\n",
            "Requirement already satisfied: numpy in /usr/local/lib/python3.9/dist-packages (from apache-tvm-cu116) (1.22.4)\n",
            "Requirement already satisfied: tornado in /usr/local/lib/python3.9/dist-packages (from apache-tvm-cu116) (6.2)\n",
            "Collecting synr==0.6.0\n",
            "  Downloading synr-0.6.0-py3-none-any.whl (18 kB)\n",
            "Requirement already satisfied: cloudpickle in /usr/local/lib/python3.9/dist-packages (from apache-tvm-cu116) (2.2.1)\n",
            "Requirement already satisfied: scipy in /usr/local/lib/python3.9/dist-packages (from apache-tvm-cu116) (1.10.1)\n",
            "Requirement already satisfied: attrs in /usr/local/lib/python3.9/dist-packages (from apache-tvm-cu116) (22.2.0)\n",
            "Installing collected packages: synr, apache-tvm-cu116\n",
            "Successfully installed apache-tvm-cu116-0.9.0 synr-0.6.0\n"
          ]
        }
      ]
    },
    {
      "cell_type": "code",
      "source": [
        "import onnx\n",
        "import tvm\n",
        "from tvm import relay\n",
        "from tvm.contrib import graph_executor\n",
        "import numpy as np"
      ],
      "metadata": {
        "id": "G14PjGu1uC8m"
      },
      "execution_count": 4,
      "outputs": []
    },
    {
      "cell_type": "markdown",
      "source": [
        "Step 1 : Convert the model to relay format"
      ],
      "metadata": {
        "id": "zd3CpgUNMstF"
      }
    },
    {
      "cell_type": "code",
      "source": [
        "# Here the model is in onnx format we are converting it into relay format\n",
        "onnx_model = onnx.load('vgg16.onnx')\n",
        "input_name = 'data'\n",
        "shape_dict = {input_name: (1, 3, 224, 224)}  # Input shape for VGG16\n",
        "mod, params = relay.frontend.from_onnx(onnx_model, shape_dict)"
      ],
      "metadata": {
        "colab": {
          "base_uri": "https://localhost:8080/"
        },
        "id": "uEpmn4mlt-lf",
        "outputId": "c2e1e47d-1dd7-4754-df93-0d4545f692bc"
      },
      "execution_count": 5,
      "outputs": [
        {
          "output_type": "stream",
          "name": "stderr",
          "text": [
            "/usr/local/lib/python3.9/dist-packages/tvm/driver/build_module.py:267: UserWarning: target_host parameter is going to be deprecated. Please pass in tvm.target.Target(target, host=target_host) instead.\n",
            "  warnings.warn(\n"
          ]
        }
      ]
    },
    {
      "cell_type": "markdown",
      "source": [
        "Step 2: Compile the model"
      ],
      "metadata": {
        "id": "Je3L-5N0Mt3D"
      }
    },
    {
      "cell_type": "code",
      "source": [
        "# Here I'm using target as GPU\n",
        "target = 'cuda'\n",
        "with tvm.transform.PassContext(opt_level=3):\n",
        "    lib = relay.build(mod, target=target, params=params)"
      ],
      "metadata": {
        "colab": {
          "base_uri": "https://localhost:8080/"
        },
        "id": "xitMs4amuMXv",
        "outputId": "9bfe0395-ed8d-48ed-d83b-483a9892ec33"
      },
      "execution_count": 6,
      "outputs": [
        {
          "output_type": "stream",
          "name": "stderr",
          "text": [
            "WARNING:autotvm:One or more operators have not been tuned. Please tune your model for better performance. Use DEBUG logging level to see more details.\n"
          ]
        }
      ]
    },
    {
      "cell_type": "markdown",
      "source": [
        "Step 3: Running the model"
      ],
      "metadata": {
        "id": "fMJKB2FqMw0E"
      }
    },
    {
      "cell_type": "code",
      "source": [
        "dev = tvm.device(str(target), 0)\n",
        "module = graph_executor.GraphModule(lib[\"default\"](dev))\n",
        "module.set_input(input_name, np.random.uniform(size=(1, 3, 224, 224)).astype(\"float32\"))\n",
        "module.run()\n",
        "output_shape = (1, 1000)\n",
        "tvm_output = module.get_output(0, tvm.nd.empty(output_shape)).numpy()"
      ],
      "metadata": {
        "id": "HWok-kwPuR9B"
      },
      "execution_count": 7,
      "outputs": []
    },
    {
      "cell_type": "markdown",
      "source": [
        "Checking Performance"
      ],
      "metadata": {
        "id": "8QlixGs7My_a"
      }
    },
    {
      "cell_type": "code",
      "source": [
        "import timeit\n",
        "\n",
        "timing_number = 10\n",
        "timing_repeat = 10\n",
        "\n",
        "unoptimized = (\n",
        "    np.array(timeit.Timer(lambda: module.run()).repeat(repeat=timing_repeat, number=timing_number))\n",
        "    * 1000\n",
        "    / timing_number\n",
        ")\n",
        "\n",
        "\n",
        "stats = {\n",
        "    \"mean\": np.mean(unoptimized),\n",
        "    \"median\": np.median(unoptimized),\n",
        "    \"std\": np.std(unoptimized),\n",
        "}\n",
        "\n",
        "print(stats)"
      ],
      "metadata": {
        "id": "gPKc2D-wG1jX",
        "outputId": "947c4129-ea7e-46e3-fbf8-5a161ce980a1",
        "colab": {
          "base_uri": "https://localhost:8080/"
        }
      },
      "execution_count": 8,
      "outputs": [
        {
          "output_type": "stream",
          "name": "stdout",
          "text": [
            "{'mean': 5.984784039999909, 'median': 6.880844799999863, 'std': 3.005015208387497}\n"
          ]
        }
      ]
    }
  ]
}